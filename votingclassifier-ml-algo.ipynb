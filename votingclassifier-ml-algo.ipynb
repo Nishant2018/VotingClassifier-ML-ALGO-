{
 "cells": [
  {
   "cell_type": "markdown",
   "id": "497659ca",
   "metadata": {
    "papermill": {
     "duration": 0.006964,
     "end_time": "2024-05-27T16:18:24.126937",
     "exception": false,
     "start_time": "2024-05-27T16:18:24.119973",
     "status": "completed"
    },
    "tags": []
   },
   "source": [
    "<div style=\"color:#FF5733; background-color:#F7DC6F; padding: 20px; border-radius: 15px; font-size: 200%; font-family: 'Segoe UI', Tahoma, Geneva, Verdana, sans-serif; text-align:center; text-shadow: 2px 2px 4px rgba(0, 0, 0, 0.7);\"> 🧾Voting Classification (IRIS)🧾</div>"
   ]
  },
  {
   "cell_type": "markdown",
   "id": "94627647",
   "metadata": {
    "papermill": {
     "duration": 0.006264,
     "end_time": "2024-05-27T16:18:24.140196",
     "exception": false,
     "start_time": "2024-05-27T16:18:24.133932",
     "status": "completed"
    },
    "tags": []
   },
   "source": [
    "![](https://miro.medium.com/v2/resize:fit:1400/1*f6KbPXwksAliMIsibFyGJw.png)"
   ]
  },
  {
   "cell_type": "markdown",
   "id": "0c0e449e",
   "metadata": {
    "papermill": {
     "duration": 0.006146,
     "end_time": "2024-05-27T16:18:24.152732",
     "exception": false,
     "start_time": "2024-05-27T16:18:24.146586",
     "status": "completed"
    },
    "tags": []
   },
   "source": [
    "<div style=\"color:#FF5733; background-color:#F7DC6F; padding: 20px; border-radius: 15px; font-size: 200%; font-family: 'Segoe UI', Tahoma, Geneva, Verdana, sans-serif; text-align:center; text-shadow: 2px 2px 4px rgba(0, 0, 0, 0.7);\"> 🧾Importing Libraries🧾</div>"
   ]
  },
  {
   "cell_type": "code",
   "execution_count": 1,
   "id": "6d274f43",
   "metadata": {
    "_cell_guid": "b1076dfc-b9ad-4769-8c92-a6c4dae69d19",
    "_uuid": "8f2839f25d086af736a60e9eeb907d3b93b6e0e5",
    "execution": {
     "iopub.execute_input": "2024-05-27T16:18:24.167469Z",
     "iopub.status.busy": "2024-05-27T16:18:24.167011Z",
     "iopub.status.idle": "2024-05-27T16:18:27.161209Z",
     "shell.execute_reply": "2024-05-27T16:18:27.159843Z"
    },
    "papermill": {
     "duration": 3.005407,
     "end_time": "2024-05-27T16:18:27.164512",
     "exception": false,
     "start_time": "2024-05-27T16:18:24.159105",
     "status": "completed"
    },
    "tags": []
   },
   "outputs": [
    {
     "name": "stdout",
     "output_type": "stream",
     "text": [
      "/kaggle/input/iris-classification/IRIS.csv\n"
     ]
    }
   ],
   "source": [
    "import numpy as np \n",
    "import pandas as pd \n",
    "import os\n",
    "import seaborn as sns\n",
    "from sklearn.preprocessing import LabelEncoder\n",
    "from sklearn.linear_model import LogisticRegression\n",
    "from sklearn.ensemble import VotingClassifier\n",
    "from sklearn.neighbors import KNeighborsClassifier\n",
    "from sklearn.ensemble import RandomForestClassifier\n",
    "from sklearn.svm import SVC\n",
    "from sklearn.model_selection import cross_val_score\n",
    "for dirname, _, filenames in os.walk('/kaggle/input'):\n",
    "    for filename in filenames:\n",
    "        print(os.path.join(dirname, filename))"
   ]
  },
  {
   "cell_type": "markdown",
   "id": "1c71e597",
   "metadata": {
    "papermill": {
     "duration": 0.006542,
     "end_time": "2024-05-27T16:18:27.178069",
     "exception": false,
     "start_time": "2024-05-27T16:18:27.171527",
     "status": "completed"
    },
    "tags": []
   },
   "source": [
    "<div style=\"color:#FF5733; background-color:#F7DC6F; padding: 20px; border-radius: 15px; font-size: 200%; font-family: 'Segoe UI', Tahoma, Geneva, Verdana, sans-serif; text-align:center; text-shadow: 2px 2px 4px rgba(0, 0, 0, 0.7);\"> 🧾Dataset Reading and Sample🧾</div>"
   ]
  },
  {
   "cell_type": "code",
   "execution_count": 2,
   "id": "a24de9a5",
   "metadata": {
    "execution": {
     "iopub.execute_input": "2024-05-27T16:18:27.193396Z",
     "iopub.status.busy": "2024-05-27T16:18:27.192874Z",
     "iopub.status.idle": "2024-05-27T16:18:27.210273Z",
     "shell.execute_reply": "2024-05-27T16:18:27.209095Z"
    },
    "papermill": {
     "duration": 0.028157,
     "end_time": "2024-05-27T16:18:27.212859",
     "exception": false,
     "start_time": "2024-05-27T16:18:27.184702",
     "status": "completed"
    },
    "tags": []
   },
   "outputs": [],
   "source": [
    "df = pd.read_csv('/kaggle/input/iris-classification/IRIS.csv')"
   ]
  },
  {
   "cell_type": "code",
   "execution_count": 3,
   "id": "6f48d467",
   "metadata": {
    "execution": {
     "iopub.execute_input": "2024-05-27T16:18:27.229213Z",
     "iopub.status.busy": "2024-05-27T16:18:27.228835Z",
     "iopub.status.idle": "2024-05-27T16:18:27.322575Z",
     "shell.execute_reply": "2024-05-27T16:18:27.321496Z"
    },
    "papermill": {
     "duration": 0.105298,
     "end_time": "2024-05-27T16:18:27.325031",
     "exception": false,
     "start_time": "2024-05-27T16:18:27.219733",
     "status": "completed"
    },
    "tags": []
   },
   "outputs": [
    {
     "data": {
      "text/html": [
       "<style type=\"text/css\">\n",
       "#T_954eb_row0_col0, #T_954eb_row0_col1, #T_954eb_row0_col2, #T_954eb_row0_col3, #T_954eb_row0_col4, #T_954eb_row1_col0, #T_954eb_row1_col1, #T_954eb_row1_col2, #T_954eb_row1_col3, #T_954eb_row1_col4, #T_954eb_row2_col0, #T_954eb_row2_col1, #T_954eb_row2_col2, #T_954eb_row2_col3, #T_954eb_row2_col4, #T_954eb_row3_col0, #T_954eb_row3_col1, #T_954eb_row3_col2, #T_954eb_row3_col3, #T_954eb_row3_col4, #T_954eb_row4_col0, #T_954eb_row4_col1, #T_954eb_row4_col2, #T_954eb_row4_col3, #T_954eb_row4_col4 {\n",
       "  background-color: #f9f9f9;\n",
       "  color: #4CAF50;\n",
       "  font-weight: bold;\n",
       "}\n",
       "</style>\n",
       "<table id=\"T_954eb\">\n",
       "  <thead>\n",
       "    <tr>\n",
       "      <th class=\"blank level0\" >&nbsp;</th>\n",
       "      <th id=\"T_954eb_level0_col0\" class=\"col_heading level0 col0\" >sepal_length</th>\n",
       "      <th id=\"T_954eb_level0_col1\" class=\"col_heading level0 col1\" >sepal_width</th>\n",
       "      <th id=\"T_954eb_level0_col2\" class=\"col_heading level0 col2\" >petal_length</th>\n",
       "      <th id=\"T_954eb_level0_col3\" class=\"col_heading level0 col3\" >petal_width</th>\n",
       "      <th id=\"T_954eb_level0_col4\" class=\"col_heading level0 col4\" >species</th>\n",
       "    </tr>\n",
       "  </thead>\n",
       "  <tbody>\n",
       "    <tr>\n",
       "      <th id=\"T_954eb_level0_row0\" class=\"row_heading level0 row0\" >0</th>\n",
       "      <td id=\"T_954eb_row0_col0\" class=\"data row0 col0\" >5.100000</td>\n",
       "      <td id=\"T_954eb_row0_col1\" class=\"data row0 col1\" >3.500000</td>\n",
       "      <td id=\"T_954eb_row0_col2\" class=\"data row0 col2\" >1.400000</td>\n",
       "      <td id=\"T_954eb_row0_col3\" class=\"data row0 col3\" >0.200000</td>\n",
       "      <td id=\"T_954eb_row0_col4\" class=\"data row0 col4\" >Iris-setosa</td>\n",
       "    </tr>\n",
       "    <tr>\n",
       "      <th id=\"T_954eb_level0_row1\" class=\"row_heading level0 row1\" >1</th>\n",
       "      <td id=\"T_954eb_row1_col0\" class=\"data row1 col0\" >4.900000</td>\n",
       "      <td id=\"T_954eb_row1_col1\" class=\"data row1 col1\" >3.000000</td>\n",
       "      <td id=\"T_954eb_row1_col2\" class=\"data row1 col2\" >1.400000</td>\n",
       "      <td id=\"T_954eb_row1_col3\" class=\"data row1 col3\" >0.200000</td>\n",
       "      <td id=\"T_954eb_row1_col4\" class=\"data row1 col4\" >Iris-setosa</td>\n",
       "    </tr>\n",
       "    <tr>\n",
       "      <th id=\"T_954eb_level0_row2\" class=\"row_heading level0 row2\" >2</th>\n",
       "      <td id=\"T_954eb_row2_col0\" class=\"data row2 col0\" >4.700000</td>\n",
       "      <td id=\"T_954eb_row2_col1\" class=\"data row2 col1\" >3.200000</td>\n",
       "      <td id=\"T_954eb_row2_col2\" class=\"data row2 col2\" >1.300000</td>\n",
       "      <td id=\"T_954eb_row2_col3\" class=\"data row2 col3\" >0.200000</td>\n",
       "      <td id=\"T_954eb_row2_col4\" class=\"data row2 col4\" >Iris-setosa</td>\n",
       "    </tr>\n",
       "    <tr>\n",
       "      <th id=\"T_954eb_level0_row3\" class=\"row_heading level0 row3\" >3</th>\n",
       "      <td id=\"T_954eb_row3_col0\" class=\"data row3 col0\" >4.600000</td>\n",
       "      <td id=\"T_954eb_row3_col1\" class=\"data row3 col1\" >3.100000</td>\n",
       "      <td id=\"T_954eb_row3_col2\" class=\"data row3 col2\" >1.500000</td>\n",
       "      <td id=\"T_954eb_row3_col3\" class=\"data row3 col3\" >0.200000</td>\n",
       "      <td id=\"T_954eb_row3_col4\" class=\"data row3 col4\" >Iris-setosa</td>\n",
       "    </tr>\n",
       "    <tr>\n",
       "      <th id=\"T_954eb_level0_row4\" class=\"row_heading level0 row4\" >4</th>\n",
       "      <td id=\"T_954eb_row4_col0\" class=\"data row4 col0\" >5.000000</td>\n",
       "      <td id=\"T_954eb_row4_col1\" class=\"data row4 col1\" >3.600000</td>\n",
       "      <td id=\"T_954eb_row4_col2\" class=\"data row4 col2\" >1.400000</td>\n",
       "      <td id=\"T_954eb_row4_col3\" class=\"data row4 col3\" >0.200000</td>\n",
       "      <td id=\"T_954eb_row4_col4\" class=\"data row4 col4\" >Iris-setosa</td>\n",
       "    </tr>\n",
       "  </tbody>\n",
       "</table>\n"
      ],
      "text/plain": [
       "<pandas.io.formats.style.Styler at 0x7e7586fe05b0>"
      ]
     },
     "execution_count": 3,
     "metadata": {},
     "output_type": "execute_result"
    }
   ],
   "source": [
    "df.head().style.set_properties(**{'background-color': '#f9f9f9', 'color': '#4CAF50', 'font-weight': 'bold'})"
   ]
  },
  {
   "cell_type": "code",
   "execution_count": 4,
   "id": "767d915a",
   "metadata": {
    "execution": {
     "iopub.execute_input": "2024-05-27T16:18:27.340621Z",
     "iopub.status.busy": "2024-05-27T16:18:27.340095Z",
     "iopub.status.idle": "2024-05-27T16:18:27.349211Z",
     "shell.execute_reply": "2024-05-27T16:18:27.348143Z"
    },
    "papermill": {
     "duration": 0.019469,
     "end_time": "2024-05-27T16:18:27.351442",
     "exception": false,
     "start_time": "2024-05-27T16:18:27.331973",
     "status": "completed"
    },
    "tags": []
   },
   "outputs": [],
   "source": [
    "# remove Id col\n",
    "df = df.iloc[:,1:]"
   ]
  },
  {
   "cell_type": "code",
   "execution_count": 5,
   "id": "22872c33",
   "metadata": {
    "execution": {
     "iopub.execute_input": "2024-05-27T16:18:27.367316Z",
     "iopub.status.busy": "2024-05-27T16:18:27.366962Z",
     "iopub.status.idle": "2024-05-27T16:18:27.378853Z",
     "shell.execute_reply": "2024-05-27T16:18:27.377773Z"
    },
    "papermill": {
     "duration": 0.022727,
     "end_time": "2024-05-27T16:18:27.381400",
     "exception": false,
     "start_time": "2024-05-27T16:18:27.358673",
     "status": "completed"
    },
    "tags": []
   },
   "outputs": [
    {
     "data": {
      "text/html": [
       "<style type=\"text/css\">\n",
       "#T_ab8ac_row0_col0, #T_ab8ac_row0_col1, #T_ab8ac_row0_col2, #T_ab8ac_row0_col3, #T_ab8ac_row1_col0, #T_ab8ac_row1_col1, #T_ab8ac_row1_col2, #T_ab8ac_row1_col3, #T_ab8ac_row2_col0, #T_ab8ac_row2_col1, #T_ab8ac_row2_col2, #T_ab8ac_row2_col3, #T_ab8ac_row3_col0, #T_ab8ac_row3_col1, #T_ab8ac_row3_col2, #T_ab8ac_row3_col3, #T_ab8ac_row4_col0, #T_ab8ac_row4_col1, #T_ab8ac_row4_col2, #T_ab8ac_row4_col3 {\n",
       "  background-color: #f9f9f9;\n",
       "  color: #4CAF50;\n",
       "  font-weight: bold;\n",
       "}\n",
       "</style>\n",
       "<table id=\"T_ab8ac\">\n",
       "  <thead>\n",
       "    <tr>\n",
       "      <th class=\"blank level0\" >&nbsp;</th>\n",
       "      <th id=\"T_ab8ac_level0_col0\" class=\"col_heading level0 col0\" >sepal_width</th>\n",
       "      <th id=\"T_ab8ac_level0_col1\" class=\"col_heading level0 col1\" >petal_length</th>\n",
       "      <th id=\"T_ab8ac_level0_col2\" class=\"col_heading level0 col2\" >petal_width</th>\n",
       "      <th id=\"T_ab8ac_level0_col3\" class=\"col_heading level0 col3\" >species</th>\n",
       "    </tr>\n",
       "  </thead>\n",
       "  <tbody>\n",
       "    <tr>\n",
       "      <th id=\"T_ab8ac_level0_row0\" class=\"row_heading level0 row0\" >0</th>\n",
       "      <td id=\"T_ab8ac_row0_col0\" class=\"data row0 col0\" >3.500000</td>\n",
       "      <td id=\"T_ab8ac_row0_col1\" class=\"data row0 col1\" >1.400000</td>\n",
       "      <td id=\"T_ab8ac_row0_col2\" class=\"data row0 col2\" >0.200000</td>\n",
       "      <td id=\"T_ab8ac_row0_col3\" class=\"data row0 col3\" >Iris-setosa</td>\n",
       "    </tr>\n",
       "    <tr>\n",
       "      <th id=\"T_ab8ac_level0_row1\" class=\"row_heading level0 row1\" >1</th>\n",
       "      <td id=\"T_ab8ac_row1_col0\" class=\"data row1 col0\" >3.000000</td>\n",
       "      <td id=\"T_ab8ac_row1_col1\" class=\"data row1 col1\" >1.400000</td>\n",
       "      <td id=\"T_ab8ac_row1_col2\" class=\"data row1 col2\" >0.200000</td>\n",
       "      <td id=\"T_ab8ac_row1_col3\" class=\"data row1 col3\" >Iris-setosa</td>\n",
       "    </tr>\n",
       "    <tr>\n",
       "      <th id=\"T_ab8ac_level0_row2\" class=\"row_heading level0 row2\" >2</th>\n",
       "      <td id=\"T_ab8ac_row2_col0\" class=\"data row2 col0\" >3.200000</td>\n",
       "      <td id=\"T_ab8ac_row2_col1\" class=\"data row2 col1\" >1.300000</td>\n",
       "      <td id=\"T_ab8ac_row2_col2\" class=\"data row2 col2\" >0.200000</td>\n",
       "      <td id=\"T_ab8ac_row2_col3\" class=\"data row2 col3\" >Iris-setosa</td>\n",
       "    </tr>\n",
       "    <tr>\n",
       "      <th id=\"T_ab8ac_level0_row3\" class=\"row_heading level0 row3\" >3</th>\n",
       "      <td id=\"T_ab8ac_row3_col0\" class=\"data row3 col0\" >3.100000</td>\n",
       "      <td id=\"T_ab8ac_row3_col1\" class=\"data row3 col1\" >1.500000</td>\n",
       "      <td id=\"T_ab8ac_row3_col2\" class=\"data row3 col2\" >0.200000</td>\n",
       "      <td id=\"T_ab8ac_row3_col3\" class=\"data row3 col3\" >Iris-setosa</td>\n",
       "    </tr>\n",
       "    <tr>\n",
       "      <th id=\"T_ab8ac_level0_row4\" class=\"row_heading level0 row4\" >4</th>\n",
       "      <td id=\"T_ab8ac_row4_col0\" class=\"data row4 col0\" >3.600000</td>\n",
       "      <td id=\"T_ab8ac_row4_col1\" class=\"data row4 col1\" >1.400000</td>\n",
       "      <td id=\"T_ab8ac_row4_col2\" class=\"data row4 col2\" >0.200000</td>\n",
       "      <td id=\"T_ab8ac_row4_col3\" class=\"data row4 col3\" >Iris-setosa</td>\n",
       "    </tr>\n",
       "  </tbody>\n",
       "</table>\n"
      ],
      "text/plain": [
       "<pandas.io.formats.style.Styler at 0x7e7586c9b0d0>"
      ]
     },
     "execution_count": 5,
     "metadata": {},
     "output_type": "execute_result"
    }
   ],
   "source": [
    "df.head().style.set_properties(**{'background-color': '#f9f9f9', 'color': '#4CAF50', 'font-weight': 'bold'})"
   ]
  },
  {
   "cell_type": "markdown",
   "id": "53bb51fd",
   "metadata": {
    "papermill": {
     "duration": 0.007342,
     "end_time": "2024-05-27T16:18:27.396029",
     "exception": false,
     "start_time": "2024-05-27T16:18:27.388687",
     "status": "completed"
    },
    "tags": []
   },
   "source": [
    "<div style=\"color:#FF5733; background-color:#F7DC6F; padding: 20px; border-radius: 15px; font-size: 200%; font-family: 'Segoe UI', Tahoma, Geneva, Verdana, sans-serif; text-align:center; text-shadow: 2px 2px 4px rgba(0, 0, 0, 0.7);\"> 🧾Label Encoder🧾</div>"
   ]
  },
  {
   "cell_type": "code",
   "execution_count": 6,
   "id": "a64fff4e",
   "metadata": {
    "execution": {
     "iopub.execute_input": "2024-05-27T16:18:27.412462Z",
     "iopub.status.busy": "2024-05-27T16:18:27.412108Z",
     "iopub.status.idle": "2024-05-27T16:18:27.416699Z",
     "shell.execute_reply": "2024-05-27T16:18:27.415592Z"
    },
    "papermill": {
     "duration": 0.015516,
     "end_time": "2024-05-27T16:18:27.418959",
     "exception": false,
     "start_time": "2024-05-27T16:18:27.403443",
     "status": "completed"
    },
    "tags": []
   },
   "outputs": [],
   "source": [
    "encoder = LabelEncoder()"
   ]
  },
  {
   "cell_type": "code",
   "execution_count": 7,
   "id": "7853b6fe",
   "metadata": {
    "execution": {
     "iopub.execute_input": "2024-05-27T16:18:27.434799Z",
     "iopub.status.busy": "2024-05-27T16:18:27.434409Z",
     "iopub.status.idle": "2024-05-27T16:18:27.440111Z",
     "shell.execute_reply": "2024-05-27T16:18:27.439020Z"
    },
    "papermill": {
     "duration": 0.016244,
     "end_time": "2024-05-27T16:18:27.442426",
     "exception": false,
     "start_time": "2024-05-27T16:18:27.426182",
     "status": "completed"
    },
    "tags": []
   },
   "outputs": [],
   "source": [
    "df['species'] = encoder.fit_transform(df['species'])"
   ]
  },
  {
   "cell_type": "code",
   "execution_count": 8,
   "id": "16f8a462",
   "metadata": {
    "execution": {
     "iopub.execute_input": "2024-05-27T16:18:27.459182Z",
     "iopub.status.busy": "2024-05-27T16:18:27.458794Z",
     "iopub.status.idle": "2024-05-27T16:18:27.470414Z",
     "shell.execute_reply": "2024-05-27T16:18:27.469155Z"
    },
    "papermill": {
     "duration": 0.023095,
     "end_time": "2024-05-27T16:18:27.473076",
     "exception": false,
     "start_time": "2024-05-27T16:18:27.449981",
     "status": "completed"
    },
    "tags": []
   },
   "outputs": [
    {
     "data": {
      "text/html": [
       "<style type=\"text/css\">\n",
       "#T_f1457_row0_col0, #T_f1457_row0_col1, #T_f1457_row0_col2, #T_f1457_row0_col3, #T_f1457_row1_col0, #T_f1457_row1_col1, #T_f1457_row1_col2, #T_f1457_row1_col3, #T_f1457_row2_col0, #T_f1457_row2_col1, #T_f1457_row2_col2, #T_f1457_row2_col3, #T_f1457_row3_col0, #T_f1457_row3_col1, #T_f1457_row3_col2, #T_f1457_row3_col3, #T_f1457_row4_col0, #T_f1457_row4_col1, #T_f1457_row4_col2, #T_f1457_row4_col3 {\n",
       "  background-color: #f9f9f9;\n",
       "  color: #4CAF50;\n",
       "  font-weight: bold;\n",
       "}\n",
       "</style>\n",
       "<table id=\"T_f1457\">\n",
       "  <thead>\n",
       "    <tr>\n",
       "      <th class=\"blank level0\" >&nbsp;</th>\n",
       "      <th id=\"T_f1457_level0_col0\" class=\"col_heading level0 col0\" >sepal_width</th>\n",
       "      <th id=\"T_f1457_level0_col1\" class=\"col_heading level0 col1\" >petal_length</th>\n",
       "      <th id=\"T_f1457_level0_col2\" class=\"col_heading level0 col2\" >petal_width</th>\n",
       "      <th id=\"T_f1457_level0_col3\" class=\"col_heading level0 col3\" >species</th>\n",
       "    </tr>\n",
       "  </thead>\n",
       "  <tbody>\n",
       "    <tr>\n",
       "      <th id=\"T_f1457_level0_row0\" class=\"row_heading level0 row0\" >0</th>\n",
       "      <td id=\"T_f1457_row0_col0\" class=\"data row0 col0\" >3.500000</td>\n",
       "      <td id=\"T_f1457_row0_col1\" class=\"data row0 col1\" >1.400000</td>\n",
       "      <td id=\"T_f1457_row0_col2\" class=\"data row0 col2\" >0.200000</td>\n",
       "      <td id=\"T_f1457_row0_col3\" class=\"data row0 col3\" >0</td>\n",
       "    </tr>\n",
       "    <tr>\n",
       "      <th id=\"T_f1457_level0_row1\" class=\"row_heading level0 row1\" >1</th>\n",
       "      <td id=\"T_f1457_row1_col0\" class=\"data row1 col0\" >3.000000</td>\n",
       "      <td id=\"T_f1457_row1_col1\" class=\"data row1 col1\" >1.400000</td>\n",
       "      <td id=\"T_f1457_row1_col2\" class=\"data row1 col2\" >0.200000</td>\n",
       "      <td id=\"T_f1457_row1_col3\" class=\"data row1 col3\" >0</td>\n",
       "    </tr>\n",
       "    <tr>\n",
       "      <th id=\"T_f1457_level0_row2\" class=\"row_heading level0 row2\" >2</th>\n",
       "      <td id=\"T_f1457_row2_col0\" class=\"data row2 col0\" >3.200000</td>\n",
       "      <td id=\"T_f1457_row2_col1\" class=\"data row2 col1\" >1.300000</td>\n",
       "      <td id=\"T_f1457_row2_col2\" class=\"data row2 col2\" >0.200000</td>\n",
       "      <td id=\"T_f1457_row2_col3\" class=\"data row2 col3\" >0</td>\n",
       "    </tr>\n",
       "    <tr>\n",
       "      <th id=\"T_f1457_level0_row3\" class=\"row_heading level0 row3\" >3</th>\n",
       "      <td id=\"T_f1457_row3_col0\" class=\"data row3 col0\" >3.100000</td>\n",
       "      <td id=\"T_f1457_row3_col1\" class=\"data row3 col1\" >1.500000</td>\n",
       "      <td id=\"T_f1457_row3_col2\" class=\"data row3 col2\" >0.200000</td>\n",
       "      <td id=\"T_f1457_row3_col3\" class=\"data row3 col3\" >0</td>\n",
       "    </tr>\n",
       "    <tr>\n",
       "      <th id=\"T_f1457_level0_row4\" class=\"row_heading level0 row4\" >4</th>\n",
       "      <td id=\"T_f1457_row4_col0\" class=\"data row4 col0\" >3.600000</td>\n",
       "      <td id=\"T_f1457_row4_col1\" class=\"data row4 col1\" >1.400000</td>\n",
       "      <td id=\"T_f1457_row4_col2\" class=\"data row4 col2\" >0.200000</td>\n",
       "      <td id=\"T_f1457_row4_col3\" class=\"data row4 col3\" >0</td>\n",
       "    </tr>\n",
       "  </tbody>\n",
       "</table>\n"
      ],
      "text/plain": [
       "<pandas.io.formats.style.Styler at 0x7e7586c99f60>"
      ]
     },
     "execution_count": 8,
     "metadata": {},
     "output_type": "execute_result"
    }
   ],
   "source": [
    "df.head().style.set_properties(**{'background-color': '#f9f9f9', 'color': '#4CAF50', 'font-weight': 'bold'})"
   ]
  },
  {
   "cell_type": "code",
   "execution_count": 9,
   "id": "a645911d",
   "metadata": {
    "execution": {
     "iopub.execute_input": "2024-05-27T16:18:27.490188Z",
     "iopub.status.busy": "2024-05-27T16:18:27.489399Z",
     "iopub.status.idle": "2024-05-27T16:18:31.602979Z",
     "shell.execute_reply": "2024-05-27T16:18:31.601503Z"
    },
    "papermill": {
     "duration": 4.127828,
     "end_time": "2024-05-27T16:18:31.608429",
     "exception": false,
     "start_time": "2024-05-27T16:18:27.480601",
     "status": "completed"
    },
    "tags": []
   },
   "outputs": [
    {
     "name": "stderr",
     "output_type": "stream",
     "text": [
      "/opt/conda/lib/python3.10/site-packages/seaborn/_oldcore.py:1119: FutureWarning: use_inf_as_na option is deprecated and will be removed in a future version. Convert inf values to NaN before operating instead.\n",
      "  with pd.option_context('mode.use_inf_as_na', True):\n",
      "/opt/conda/lib/python3.10/site-packages/seaborn/_oldcore.py:1075: FutureWarning: When grouping with a length-1 list-like, you will need to pass a length-1 tuple to get_group in a future version of pandas. Pass `(name,)` instead of `name` to silence this warning.\n",
      "  data_subset = grouped_data.get_group(pd_key)\n",
      "/opt/conda/lib/python3.10/site-packages/seaborn/_oldcore.py:1119: FutureWarning: use_inf_as_na option is deprecated and will be removed in a future version. Convert inf values to NaN before operating instead.\n",
      "  with pd.option_context('mode.use_inf_as_na', True):\n",
      "/opt/conda/lib/python3.10/site-packages/seaborn/_oldcore.py:1075: FutureWarning: When grouping with a length-1 list-like, you will need to pass a length-1 tuple to get_group in a future version of pandas. Pass `(name,)` instead of `name` to silence this warning.\n",
      "  data_subset = grouped_data.get_group(pd_key)\n",
      "/opt/conda/lib/python3.10/site-packages/seaborn/_oldcore.py:1119: FutureWarning: use_inf_as_na option is deprecated and will be removed in a future version. Convert inf values to NaN before operating instead.\n",
      "  with pd.option_context('mode.use_inf_as_na', True):\n",
      "/opt/conda/lib/python3.10/site-packages/seaborn/_oldcore.py:1075: FutureWarning: When grouping with a length-1 list-like, you will need to pass a length-1 tuple to get_group in a future version of pandas. Pass `(name,)` instead of `name` to silence this warning.\n",
      "  data_subset = grouped_data.get_group(pd_key)\n"
     ]
    },
    {
     "data": {
      "text/plain": [
       "<seaborn.axisgrid.PairGrid at 0x7e7586fe0130>"
      ]
     },
     "execution_count": 9,
     "metadata": {},
     "output_type": "execute_result"
    },
    {
     "data": {
      "image/png": "[encoded data removed]",
      "text/plain": [
       "<Figure size 812.736x750 with 12 Axes>"
      ]
     },
     "metadata": {},
     "output_type": "display_data"
    }
   ],
   "source": [
    "sns.pairplot(df,hue='species')"
   ]
  },
  {
   "cell_type": "code",
   "execution_count": 10,
   "id": "858865f7",
   "metadata": {
    "execution": {
     "iopub.execute_input": "2024-05-27T16:18:31.635274Z",
     "iopub.status.busy": "2024-05-27T16:18:31.634891Z",
     "iopub.status.idle": "2024-05-27T16:18:31.649613Z",
     "shell.execute_reply": "2024-05-27T16:18:31.648231Z"
    },
    "papermill": {
     "duration": 0.028717,
     "end_time": "2024-05-27T16:18:31.652072",
     "exception": false,
     "start_time": "2024-05-27T16:18:31.623355",
     "status": "completed"
    },
    "tags": []
   },
   "outputs": [
    {
     "data": {
      "text/html": [
       "<style type=\"text/css\">\n",
       "#T_53afe_row0_col0, #T_53afe_row0_col1, #T_53afe_row0_col2, #T_53afe_row0_col3, #T_53afe_row1_col0, #T_53afe_row1_col1, #T_53afe_row1_col2, #T_53afe_row1_col3, #T_53afe_row2_col0, #T_53afe_row2_col1, #T_53afe_row2_col2, #T_53afe_row2_col3, #T_53afe_row3_col0, #T_53afe_row3_col1, #T_53afe_row3_col2, #T_53afe_row3_col3, #T_53afe_row4_col0, #T_53afe_row4_col1, #T_53afe_row4_col2, #T_53afe_row4_col3 {\n",
       "  background-color: #f9f9f9;\n",
       "  color: #4CAF50;\n",
       "  font-weight: bold;\n",
       "}\n",
       "</style>\n",
       "<table id=\"T_53afe\">\n",
       "  <thead>\n",
       "    <tr>\n",
       "      <th class=\"blank level0\" >&nbsp;</th>\n",
       "      <th id=\"T_53afe_level0_col0\" class=\"col_heading level0 col0\" >sepal_width</th>\n",
       "      <th id=\"T_53afe_level0_col1\" class=\"col_heading level0 col1\" >petal_length</th>\n",
       "      <th id=\"T_53afe_level0_col2\" class=\"col_heading level0 col2\" >petal_width</th>\n",
       "      <th id=\"T_53afe_level0_col3\" class=\"col_heading level0 col3\" >species</th>\n",
       "    </tr>\n",
       "  </thead>\n",
       "  <tbody>\n",
       "    <tr>\n",
       "      <th id=\"T_53afe_level0_row0\" class=\"row_heading level0 row0\" >87</th>\n",
       "      <td id=\"T_53afe_row0_col0\" class=\"data row0 col0\" >2.300000</td>\n",
       "      <td id=\"T_53afe_row0_col1\" class=\"data row0 col1\" >4.400000</td>\n",
       "      <td id=\"T_53afe_row0_col2\" class=\"data row0 col2\" >1.300000</td>\n",
       "      <td id=\"T_53afe_row0_col3\" class=\"data row0 col3\" >1</td>\n",
       "    </tr>\n",
       "    <tr>\n",
       "      <th id=\"T_53afe_level0_row1\" class=\"row_heading level0 row1\" >78</th>\n",
       "      <td id=\"T_53afe_row1_col0\" class=\"data row1 col0\" >2.900000</td>\n",
       "      <td id=\"T_53afe_row1_col1\" class=\"data row1 col1\" >4.500000</td>\n",
       "      <td id=\"T_53afe_row1_col2\" class=\"data row1 col2\" >1.500000</td>\n",
       "      <td id=\"T_53afe_row1_col3\" class=\"data row1 col3\" >1</td>\n",
       "    </tr>\n",
       "    <tr>\n",
       "      <th id=\"T_53afe_level0_row2\" class=\"row_heading level0 row2\" >120</th>\n",
       "      <td id=\"T_53afe_row2_col0\" class=\"data row2 col0\" >3.200000</td>\n",
       "      <td id=\"T_53afe_row2_col1\" class=\"data row2 col1\" >5.700000</td>\n",
       "      <td id=\"T_53afe_row2_col2\" class=\"data row2 col2\" >2.300000</td>\n",
       "      <td id=\"T_53afe_row2_col3\" class=\"data row2 col3\" >2</td>\n",
       "    </tr>\n",
       "    <tr>\n",
       "      <th id=\"T_53afe_level0_row3\" class=\"row_heading level0 row3\" >59</th>\n",
       "      <td id=\"T_53afe_row3_col0\" class=\"data row3 col0\" >2.700000</td>\n",
       "      <td id=\"T_53afe_row3_col1\" class=\"data row3 col1\" >3.900000</td>\n",
       "      <td id=\"T_53afe_row3_col2\" class=\"data row3 col2\" >1.400000</td>\n",
       "      <td id=\"T_53afe_row3_col3\" class=\"data row3 col3\" >1</td>\n",
       "    </tr>\n",
       "    <tr>\n",
       "      <th id=\"T_53afe_level0_row4\" class=\"row_heading level0 row4\" >53</th>\n",
       "      <td id=\"T_53afe_row4_col0\" class=\"data row4 col0\" >2.300000</td>\n",
       "      <td id=\"T_53afe_row4_col1\" class=\"data row4 col1\" >4.000000</td>\n",
       "      <td id=\"T_53afe_row4_col2\" class=\"data row4 col2\" >1.300000</td>\n",
       "      <td id=\"T_53afe_row4_col3\" class=\"data row4 col3\" >1</td>\n",
       "    </tr>\n",
       "  </tbody>\n",
       "</table>\n"
      ],
      "text/plain": [
       "<pandas.io.formats.style.Styler at 0x7e75825600a0>"
      ]
     },
     "execution_count": 10,
     "metadata": {},
     "output_type": "execute_result"
    }
   ],
   "source": [
    "df.sample(5).style.set_properties(**{'background-color': '#f9f9f9', 'color': '#4CAF50', 'font-weight': 'bold'})"
   ]
  },
  {
   "cell_type": "markdown",
   "id": "de88bbe1",
   "metadata": {
    "papermill": {
     "duration": 0.010363,
     "end_time": "2024-05-27T16:18:31.675358",
     "exception": false,
     "start_time": "2024-05-27T16:18:31.664995",
     "status": "completed"
    },
    "tags": []
   },
   "source": [
    "<div style=\"color:#FF5733; background-color:#F7DC6F; padding: 20px; border-radius: 15px; font-size: 200%; font-family: 'Segoe UI', Tahoma, Geneva, Verdana, sans-serif; text-align:center; text-shadow: 2px 2px 4px rgba(0, 0, 0, 0.7);\"> 🧾Selecting Columns🧾</div>"
   ]
  },
  {
   "cell_type": "code",
   "execution_count": 11,
   "id": "6a5881d5",
   "metadata": {
    "execution": {
     "iopub.execute_input": "2024-05-27T16:18:31.698896Z",
     "iopub.status.busy": "2024-05-27T16:18:31.698484Z",
     "iopub.status.idle": "2024-05-27T16:18:31.704513Z",
     "shell.execute_reply": "2024-05-27T16:18:31.703431Z"
    },
    "papermill": {
     "duration": 0.020315,
     "end_time": "2024-05-27T16:18:31.706865",
     "exception": false,
     "start_time": "2024-05-27T16:18:31.686550",
     "status": "completed"
    },
    "tags": []
   },
   "outputs": [],
   "source": [
    "X = df.iloc[:,0:2]\n",
    "y = df.iloc[:,-1]"
   ]
  },
  {
   "cell_type": "code",
   "execution_count": 12,
   "id": "7e248de9",
   "metadata": {
    "execution": {
     "iopub.execute_input": "2024-05-27T16:18:31.734756Z",
     "iopub.status.busy": "2024-05-27T16:18:31.733777Z",
     "iopub.status.idle": "2024-05-27T16:18:31.739932Z",
     "shell.execute_reply": "2024-05-27T16:18:31.738664Z"
    },
    "papermill": {
     "duration": 0.024837,
     "end_time": "2024-05-27T16:18:31.742472",
     "exception": false,
     "start_time": "2024-05-27T16:18:31.717635",
     "status": "completed"
    },
    "tags": []
   },
   "outputs": [],
   "source": [
    "clf1 = LogisticRegression()\n",
    "clf2 = RandomForestClassifier()\n",
    "clf3 = KNeighborsClassifier()"
   ]
  },
  {
   "cell_type": "code",
   "execution_count": 13,
   "id": "7c187182",
   "metadata": {
    "execution": {
     "iopub.execute_input": "2024-05-27T16:18:31.767602Z",
     "iopub.status.busy": "2024-05-27T16:18:31.767100Z",
     "iopub.status.idle": "2024-05-27T16:18:31.773254Z",
     "shell.execute_reply": "2024-05-27T16:18:31.771907Z"
    },
    "papermill": {
     "duration": 0.021032,
     "end_time": "2024-05-27T16:18:31.775767",
     "exception": false,
     "start_time": "2024-05-27T16:18:31.754735",
     "status": "completed"
    },
    "tags": []
   },
   "outputs": [],
   "source": [
    "estimators = [('lr',clf1),('rf',clf2),('knn',clf3)]"
   ]
  },
  {
   "cell_type": "code",
   "execution_count": 14,
   "id": "0ade4280",
   "metadata": {
    "execution": {
     "iopub.execute_input": "2024-05-27T16:18:31.801172Z",
     "iopub.status.busy": "2024-05-27T16:18:31.800766Z",
     "iopub.status.idle": "2024-05-27T16:18:33.730330Z",
     "shell.execute_reply": "2024-05-27T16:18:33.729003Z"
    },
    "papermill": {
     "duration": 1.946445,
     "end_time": "2024-05-27T16:18:33.732948",
     "exception": false,
     "start_time": "2024-05-27T16:18:31.786503",
     "status": "completed"
    },
    "tags": []
   },
   "outputs": [
    {
     "name": "stdout",
     "output_type": "stream",
     "text": [
      "lr 0.95\n",
      "rf 0.94\n",
      "knn 0.95\n"
     ]
    }
   ],
   "source": [
    "for estimator in estimators:\n",
    "    x = cross_val_score(estimator[1],X,y,cv=10,scoring='accuracy')\n",
    "    print(estimator[0],np.round(np.mean(x),2))"
   ]
  },
  {
   "cell_type": "markdown",
   "id": "ff44345d",
   "metadata": {
    "papermill": {
     "duration": 0.010469,
     "end_time": "2024-05-27T16:18:33.754114",
     "exception": false,
     "start_time": "2024-05-27T16:18:33.743645",
     "status": "completed"
    },
    "tags": []
   },
   "source": [
    "<div style=\"color:#FF5733; background-color:#F7DC6F; padding: 20px; border-radius: 15px; font-size: 200%; font-family: 'Segoe UI', Tahoma, Geneva, Verdana, sans-serif; text-align:center; text-shadow: 2px 2px 4px rgba(0, 0, 0, 0.7);\"> 🧾Hard Voting🧾</div>"
   ]
  },
  {
   "cell_type": "code",
   "execution_count": 15,
   "id": "1b3b887d",
   "metadata": {
    "execution": {
     "iopub.execute_input": "2024-05-27T16:18:33.777048Z",
     "iopub.status.busy": "2024-05-27T16:18:33.776679Z",
     "iopub.status.idle": "2024-05-27T16:18:35.762887Z",
     "shell.execute_reply": "2024-05-27T16:18:35.761169Z"
    },
    "papermill": {
     "duration": 2.000941,
     "end_time": "2024-05-27T16:18:35.765427",
     "exception": false,
     "start_time": "2024-05-27T16:18:33.764486",
     "status": "completed"
    },
    "tags": []
   },
   "outputs": [
    {
     "name": "stdout",
     "output_type": "stream",
     "text": [
      "0.95\n"
     ]
    }
   ],
   "source": [
    "vc = VotingClassifier(estimators=estimators,voting='hard')\n",
    "x = cross_val_score(vc,X,y,cv=10,scoring='accuracy')\n",
    "print(np.round(np.mean(x),2))"
   ]
  },
  {
   "cell_type": "markdown",
   "id": "7118bcde",
   "metadata": {
    "papermill": {
     "duration": 0.01093,
     "end_time": "2024-05-27T16:18:35.787441",
     "exception": false,
     "start_time": "2024-05-27T16:18:35.776511",
     "status": "completed"
    },
    "tags": []
   },
   "source": [
    "<div style=\"color:#FF5733; background-color:#F7DC6F; padding: 20px; border-radius: 15px; font-size: 200%; font-family: 'Segoe UI', Tahoma, Geneva, Verdana, sans-serif; text-align:center; text-shadow: 2px 2px 4px rgba(0, 0, 0, 0.7);\"> 🧾Soft Voting🧾</div>"
   ]
  },
  {
   "cell_type": "code",
   "execution_count": 16,
   "id": "2bd9d1d5",
   "metadata": {
    "execution": {
     "iopub.execute_input": "2024-05-27T16:18:35.811183Z",
     "iopub.status.busy": "2024-05-27T16:18:35.810768Z",
     "iopub.status.idle": "2024-05-27T16:18:37.686724Z",
     "shell.execute_reply": "2024-05-27T16:18:37.685635Z"
    },
    "papermill": {
     "duration": 1.890808,
     "end_time": "2024-05-27T16:18:37.689118",
     "exception": false,
     "start_time": "2024-05-27T16:18:35.798310",
     "status": "completed"
    },
    "tags": []
   },
   "outputs": [
    {
     "name": "stdout",
     "output_type": "stream",
     "text": [
      "0.95\n"
     ]
    }
   ],
   "source": [
    "vc1 = VotingClassifier(estimators=estimators,voting='soft')\n",
    "x = cross_val_score(vc1,X,y,cv=10,scoring='accuracy')\n",
    "print(np.round(np.mean(x),2))"
   ]
  },
  {
   "cell_type": "markdown",
   "id": "69c9c8ac",
   "metadata": {
    "papermill": {
     "duration": 0.010722,
     "end_time": "2024-05-27T16:18:37.711032",
     "exception": false,
     "start_time": "2024-05-27T16:18:37.700310",
     "status": "completed"
    },
    "tags": []
   },
   "source": [
    "<div style=\"color:#FF5733; background-color:#F7DC6F; padding: 20px; border-radius: 15px; font-size: 200%; font-family: 'Segoe UI', Tahoma, Geneva, Verdana, sans-serif; text-align:center; text-shadow: 2px 2px 4px rgba(0, 0, 0, 0.7);\"> 🧾Weighted Voting🧾</div>"
   ]
  },
  {
   "cell_type": "code",
   "execution_count": 17,
   "id": "3b48c220",
   "metadata": {
    "execution": {
     "iopub.execute_input": "2024-05-27T16:18:37.737430Z",
     "iopub.status.busy": "2024-05-27T16:18:37.737062Z",
     "iopub.status.idle": "2024-05-27T16:19:28.960612Z",
     "shell.execute_reply": "2024-05-27T16:19:28.959343Z"
    },
    "papermill": {
     "duration": 51.238731,
     "end_time": "2024-05-27T16:19:28.963319",
     "exception": false,
     "start_time": "2024-05-27T16:18:37.724588",
     "status": "completed"
    },
    "tags": []
   },
   "outputs": [
    {
     "name": "stdout",
     "output_type": "stream",
     "text": [
      "for i=1,j=1,k=1 0.95\n",
      "for i=1,j=1,k=2 0.95\n",
      "for i=1,j=1,k=3 0.95\n",
      "for i=1,j=2,k=1 0.95\n",
      "for i=1,j=2,k=2 0.95\n",
      "for i=1,j=2,k=3 0.95\n",
      "for i=1,j=3,k=1 0.95\n",
      "for i=1,j=3,k=2 0.95\n",
      "for i=1,j=3,k=3 0.95\n",
      "for i=2,j=1,k=1 0.95\n",
      "for i=2,j=1,k=2 0.95\n",
      "for i=2,j=1,k=3 0.95\n",
      "for i=2,j=2,k=1 0.95\n",
      "for i=2,j=2,k=2 0.95\n",
      "for i=2,j=2,k=3 0.95\n",
      "for i=2,j=3,k=1 0.95\n",
      "for i=2,j=3,k=2 0.95\n",
      "for i=2,j=3,k=3 0.95\n",
      "for i=3,j=1,k=1 0.95\n",
      "for i=3,j=1,k=2 0.95\n",
      "for i=3,j=1,k=3 0.95\n",
      "for i=3,j=2,k=1 0.95\n",
      "for i=3,j=2,k=2 0.95\n",
      "for i=3,j=2,k=3 0.95\n",
      "for i=3,j=3,k=1 0.95\n",
      "for i=3,j=3,k=2 0.95\n",
      "for i=3,j=3,k=3 0.95\n"
     ]
    }
   ],
   "source": [
    "for i in range(1,4):\n",
    "    for j in range(1,4):\n",
    "        for k in range(1,4):\n",
    "            vc = VotingClassifier(estimators=estimators,voting='soft',weights=[i,j,k])\n",
    "            x = cross_val_score(vc,X,y,cv=10,scoring='accuracy')\n",
    "            print(\"for i={},j={},k={}\".format(i,j,k),np.round(np.mean(x),2))\n",
    "            "
   ]
  },
  {
   "cell_type": "markdown",
   "id": "2e61b5f4",
   "metadata": {
    "papermill": {
     "duration": 0.012181,
     "end_time": "2024-05-27T16:19:28.988166",
     "exception": false,
     "start_time": "2024-05-27T16:19:28.975985",
     "status": "completed"
    },
    "tags": []
   },
   "source": [
    "<div style=\"color:#FF5733; background-color:#F7DC6F; padding: 20px; border-radius: 15px; font-size: 200%; font-family: 'Segoe UI', Tahoma, Geneva, Verdana, sans-serif; text-align:center; text-shadow: 2px 2px 4px rgba(0, 0, 0, 0.7);\"> 🧾Classifier Of Same Algo🧾</div>"
   ]
  },
  {
   "cell_type": "code",
   "execution_count": 18,
   "id": "2fee2b7d",
   "metadata": {
    "execution": {
     "iopub.execute_input": "2024-05-27T16:19:29.015795Z",
     "iopub.status.busy": "2024-05-27T16:19:29.015355Z",
     "iopub.status.idle": "2024-05-27T16:19:34.966500Z",
     "shell.execute_reply": "2024-05-27T16:19:34.965279Z"
    },
    "papermill": {
     "duration": 5.968505,
     "end_time": "2024-05-27T16:19:34.969115",
     "exception": false,
     "start_time": "2024-05-27T16:19:29.000610",
     "status": "completed"
    },
    "tags": []
   },
   "outputs": [
    {
     "name": "stdout",
     "output_type": "stream",
     "text": [
      "svm1 0.85\n",
      "svm2 0.85\n",
      "svm3 0.89\n",
      "svm4 0.81\n",
      "svm5 0.86\n"
     ]
    }
   ],
   "source": [
    "from sklearn.datasets import make_classification\n",
    "\n",
    "X, y = make_classification(n_samples=1000, n_features=20, n_informative=15, n_redundant=5, random_state=2)\n",
    "\n",
    "svm1 = SVC(probability=True, kernel='poly', degree=1)\n",
    "svm2 = SVC(probability=True, kernel='poly', degree=2)\n",
    "svm3 = SVC(probability=True, kernel='poly', degree=3)\n",
    "svm4 = SVC(probability=True, kernel='poly', degree=4)\n",
    "svm5 = SVC(probability=True, kernel='poly', degree=5)\n",
    "\n",
    "estimators = [('svm1',svm1),('svm2',svm2),('svm3',svm3),('svm4',svm4),('svm5',svm5)]\n",
    "\n",
    "for estimator in estimators:\n",
    "    x = cross_val_score(estimator[1],X,y,cv=10,scoring='accuracy')\n",
    "    print(estimator[0],np.round(np.mean(x),2))"
   ]
  },
  {
   "cell_type": "code",
   "execution_count": 19,
   "id": "c53deab9",
   "metadata": {
    "execution": {
     "iopub.execute_input": "2024-05-27T16:19:34.997508Z",
     "iopub.status.busy": "2024-05-27T16:19:34.996498Z",
     "iopub.status.idle": "2024-05-27T16:19:40.782287Z",
     "shell.execute_reply": "2024-05-27T16:19:40.780733Z"
    },
    "papermill": {
     "duration": 5.803226,
     "end_time": "2024-05-27T16:19:40.785466",
     "exception": false,
     "start_time": "2024-05-27T16:19:34.982240",
     "status": "completed"
    },
    "tags": []
   },
   "outputs": [
    {
     "name": "stdout",
     "output_type": "stream",
     "text": [
      "0.93\n"
     ]
    }
   ],
   "source": [
    "vc1 = VotingClassifier(estimators=estimators,voting='soft')\n",
    "x = cross_val_score(vc1,X,y,cv=10,scoring='accuracy')\n",
    "print(np.round(np.mean(x),2))"
   ]
  },
  {
   "cell_type": "markdown",
   "id": "928f3960",
   "metadata": {
    "papermill": {
     "duration": 0.013791,
     "end_time": "2024-05-27T16:19:40.812336",
     "exception": false,
     "start_time": "2024-05-27T16:19:40.798545",
     "status": "completed"
    },
    "tags": []
   },
   "source": [
    "![](https://static.fontget.com/t/h/thank-you/preview@2x.png)"
   ]
  }
 ],
 "metadata": {
  "kaggle": {
   "accelerator": "none",
   "dataSources": [
    {
     "datasetId": 3740158,
     "sourceId": 6474646,
     "sourceType": "datasetVersion"
    }
   ],
   "dockerImageVersionId": 30698,
   "isGpuEnabled": false,
   "isInternetEnabled": true,
   "language": "python",
   "sourceType": "notebook"
  },
  "kernelspec": {
   "display_name": "Python 3",
   "language": "python",
   "name": "python3"
  },
  "language_info": {
   "codemirror_mode": {
    "name": "ipython",
    "version": 3
   },
   "file_extension": ".py",
   "mimetype": "text/x-python",
   "name": "python",
   "nbconvert_exporter": "python",
   "pygments_lexer": "ipython3",
   "version": "3.10.13"
  },
  "papermill": {
   "default_parameters": {},
   "duration": 80.28315,
   "end_time": "2024-05-27T16:19:41.555124",
   "environment_variables": {},
   "exception": null,
   "input_path": "__notebook__.ipynb",
   "output_path": "__notebook__.ipynb",
   "parameters": {},
   "start_time": "2024-05-27T16:18:21.271974",
   "version": "2.5.0"
  }
 },
 "nbformat": 4,
 "nbformat_minor": 5
}
